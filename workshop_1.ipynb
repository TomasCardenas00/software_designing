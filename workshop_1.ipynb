{
  "nbformat": 4,
  "nbformat_minor": 0,
  "metadata": {
    "colab": {
      "provenance": []
    },
    "kernelspec": {
      "name": "python3",
      "display_name": "Python 3"
    },
    "language_info": {
      "name": "python"
    }
  },
  "cells": [
    {
      "cell_type": "code",
      "source": [
        "list_Engines = []\n",
        "\n",
        "list_Vehicles = []"
      ],
      "metadata": {
        "id": "_H-dzC7GTZND"
      },
      "execution_count": null,
      "outputs": []
    },
    {
      "cell_type": "code",
      "execution_count": null,
      "metadata": {
        "id": "sGT6eL-wGmNH"
      },
      "outputs": [],
      "source": [
        "class Engine:\n",
        "  # constructor\n",
        "  def __init__(self,engine_name,engine_type,engine_ptcy,engine_weight):\n",
        "    self.engine_name = engine_name\n",
        "    self.engine_type = engine_type\n",
        "    self.engine_ptcy = engine_ptcy\n",
        "    self.engine_weight = engine_weight\n",
        "\n",
        "  def create_engine(self, list):\n",
        "    list.append(self.engine_name)\n",
        "    list.append(self.engine_type)\n",
        "    list.append(self.engine_ptcy)\n",
        "    list.append(self.engine_weight)\n",
        "    return list\n",
        "\n",
        "\n",
        "class Vehicle(Engine):\n",
        "  \"\"\"This class defines the basic characteristics and behaviour of a vehicle in the constructor company\"\"\"\n",
        "  # constructor\n",
        "  def __init__(self,engine,model,year,chasis,engine_name,engine_type,engine_ptcy,engine_weight):\n",
        "    super().__init__(engine_ptcy,engine_name,engine_type,engine_weight)\n",
        "    self.engine = engine\n",
        "    self.chasis = chasis\n",
        "    self.model = model\n",
        "    self.year = year\n",
        "\n",
        "  def gas_consumption(chasis,engine_potency,engine_weight):\n",
        "    if chasis.lower() == \"a\":\n",
        "      gas = (1.1*engine_potency) + (0.2*engine_weight) - 0.3\n",
        "    elif chasis.lower() == \"b\":\n",
        "      gas = (1.1*engine_potency) + (0.2*engine_weight) - 0.3\n",
        "    return gas\n",
        "\n",
        "  def create_car(self, list):\n",
        "    list.append(self.engine)\n",
        "    list.append(self.chasis)\n",
        "    list.append(self.model)\n",
        "    list.append(self.engine_weight)\n",
        "    list.append(self.engine_name)\n",
        "    list.append(self.engine_type)\n",
        "    list.append(self.engine_ptcy)\n",
        "    list.append(self.engine_weight)\n",
        "    return list\n",
        "\n",
        "  def get_year(self):\n",
        "    return self.year\n",
        "\n",
        "  def get_engine_ptcy(self):\n",
        "    return self.engine_ptcy\n",
        "\n",
        "class Car(Vehicle):\n",
        "  def __init__(self,engine,model,year,chasis,engine_name,engine_type,engine_ptcy,engine_weight):\n",
        "    super().__init__(engine_ptcy,engine_name,engine_type,engine_weight)\n",
        "\n",
        "class Truck(Vehicle):\n",
        "  def __init__(self,engine,model,year,chasis,engine_name,engine_type,engine_ptcy,engine_weight):\n",
        "    super().__init__(engine_ptcy,engine_name,engine_type,engine_weight)\n",
        "\n",
        "class Yacht(Vehicle):\n",
        "  def __init__(self,engine,model,year,chasis,engine_name,engine_type,engine_ptcy,engine_weight):\n",
        "    super().__init__(engine_ptcy,engine_name,engine_type,engine_weight)\n",
        "\n",
        "class Bike(Vehicle):\n",
        "  def __init__(self,engine,model,year,chasis,engine_name,engine_type,engine_ptcy,engine_weight):\n",
        "    super().__init__(engine_ptcy,engine_name,engine_type,engine_weight)"
      ]
    },
    {
      "cell_type": "code",
      "source": [
        "print(\"1 → Create Engine\")\n",
        "print(\"2 → Create Vehicle\")\n",
        "print(\"3 → Search Vehicle\")\n",
        "print(\"4 → Show all Vehicles\")\n",
        "print(\"5 → Exit\")\n",
        "val1 = input()\n",
        "\n",
        "if val1 == \"1\":\n",
        "  name = input(\"What's the name of the engine? \")\n",
        "  type_ = input(\"What's the type of the engine? \")\n",
        "  ptcy = input(\"What's the potency of the engine? \")\n",
        "  weight = input(\"What's the weight of the engine? \")\n",
        "\n",
        "  motor = Engine(name,type_,ptcy,weight)\n",
        "\n",
        "  modelo_1 = []\n",
        "  modelo_1 = motor.create_engine(modelo_1)\n",
        "\n",
        "  list_Engines.append(modelo_1)\n",
        "\n",
        "elif val1 == \"2\":\n",
        "  print(\"1 → Car\")\n",
        "  print(\"2 → Truck\")\n",
        "  print(\"3 → Yacht\")\n",
        "  print(\"4 → Bike\")\n",
        "  vehicle = input(\"What type of Vehicle are you making?\")\n",
        "  print(list_Engines)\n",
        "  a = input(\"What's the engine you are using? \")\n",
        "  chasis = input(\"What's the chasis you are using? \")\n",
        "  model = input(\"What's the vehicle's model? \")\n",
        "  year = input(\"What's vehicle year?\")\n",
        "  if vehicle == \"1\":\n",
        "    engine_ = list_Engines[int(a)]\n",
        "    car = Car(a,chasis,model,year,engine_[0],engine_[1],engine_[2],engine_[3])\n",
        "\n",
        "    list_v = []\n",
        "    list_v = car.create_car(list_v)\n",
        "\n",
        "    gas = car.gas_consumption(chasis,engine_[2],engine_[3])\n",
        "    list_v.append(gas)\n",
        "\n",
        "    list_Vehicles.append(list_v)\n",
        "  elif vehicle == \"2\":\n",
        "    engine_ = list_Engines[int(a)]\n",
        "    truck = Truck(a,chasis,model,year,engine_[0],engine_[1],engine_[2],engine_[3])\n",
        "\n",
        "    list_v = []\n",
        "    list_v = truck.create_car(list_v)\n",
        "\n",
        "    gas = truck.gas_consumption(chasis,engine_[2],engine_[3])\n",
        "    list_v.append(gas)\n",
        "\n",
        "    list_Vehicles.append(list_v)\n",
        "  elif vehicle == \"3\":\n",
        "    engine_ = list_Engines[int(a)]\n",
        "    yacht = Yacht(a,chasis,model,year,engine_[0],engine_[1],engine_[2],engine_[3])\n",
        "\n",
        "    list_v = []\n",
        "    list_v = yacht.create_car(list_v)\n",
        "\n",
        "    gas = yacht.gas_consumption(chasis,engine_[2],engine_[3])\n",
        "    list_v.append(gas)\n",
        "\n",
        "    list_Vehicles.append(list_v)\n",
        "  elif vehicle == \"3\":\n",
        "    engine_ = list_Engines[int(a)]\n",
        "    bike = Bike(a,chasis,model,year,engine_[0],engine_[1],engine_[2],engine_[3])\n",
        "\n",
        "    list_v = []\n",
        "    list_v = bike.create_car(list_v)\n",
        "\n",
        "    gas = bike.gas_consumption(chasis,engine_[2],engine_[3])\n",
        "    list_v.append(gas)\n",
        "\n",
        "    list_Vehicles.append(list_v)\n",
        "  else:\n",
        "    print(\"Vehicle type not found\")\n",
        "\n",
        "elif val1 == \"3\":\n",
        "  print(\"1 → By year\")\n",
        "  print(\"2 → By potency\")\n",
        "  inf = input(\"What do you want to search? \")\n",
        "  if inf == \"1\":\n",
        "    year = input(\"Insert the year you want to search? \")\n",
        "    for i in range (0,len(list_Vehicles)):\n",
        "      lists = i\n",
        "      if lists[3] == year:\n",
        "        print(lists)\n",
        "  elif inf == \"2\":\n",
        "    year = input(\"Insert the potency you want to search? \")\n",
        "    for i in range (0,len(list_Vehicles)):\n",
        "      lists = i\n",
        "      if lists[7] == year:\n",
        "        print(lists)\n",
        "\n",
        "elif val1 == \"4\":\n",
        "  print(list_Vehicles)\n",
        "else:\n",
        "  pass"
      ],
      "metadata": {
        "colab": {
          "base_uri": "https://localhost:8080/"
        },
        "id": "Gut7XDxmQpef",
        "outputId": "bf4e1ea2-b17c-4736-d7a9-5b8039d1dfd1"
      },
      "execution_count": null,
      "outputs": [
        {
          "name": "stdout",
          "output_type": "stream",
          "text": [
            "1 → Create Engine\n",
            "2 → Create Vehicle\n",
            "3 → Search Vehicle\n",
            "4 → Show all Vehicles\n",
            "5 → Exit\n",
            "5\n"
          ]
        }
      ]
    },
    {
      "cell_type": "code",
      "source": [
        "print(list_Vehicles)\n",
        "print(list_Engines)"
      ],
      "metadata": {
        "colab": {
          "base_uri": "https://localhost:8080/"
        },
        "id": "12K-wk6XVUDO",
        "outputId": "e6db094b-c830-411d-e1d7-72e02094a896"
      },
      "execution_count": null,
      "outputs": [
        {
          "output_type": "stream",
          "name": "stdout",
          "text": [
            "[]\n",
            "[['1', '2', '3', '4']]\n"
          ]
        }
      ]
    },
    {
      "cell_type": "code",
      "source": [],
      "metadata": {
        "id": "zmKpWXGfc47F"
      },
      "execution_count": null,
      "outputs": []
    }
  ]
}